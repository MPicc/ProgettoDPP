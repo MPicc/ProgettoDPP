{
  "nbformat": 4,
  "nbformat_minor": 0,
  "metadata": {
    "colab": {
      "name": "RBAT.ipynb",
      "provenance": [],
      "collapsed_sections": [],
      "toc_visible": true,
      "include_colab_link": true
    },
    "kernelspec": {
      "name": "python3",
      "display_name": "Python 3"
    }
  },
  "cells": [
    {
      "cell_type": "markdown",
      "metadata": {
        "id": "view-in-github",
        "colab_type": "text"
      },
      "source": [
        "<a href=\"https://colab.research.google.com/github/MPicc/ProgettoDPP/blob/main/RBAT.ipynb\" target=\"_parent\"><img src=\"https://colab.research.google.com/assets/colab-badge.svg\" alt=\"Open In Colab\"/></a>"
      ]
    },
    {
      "cell_type": "code",
      "metadata": {
        "colab": {
          "base_uri": "https://localhost:8080/"
        },
        "id": "9sPeFvXHndfR",
        "outputId": "e907b3f1-bb56-47b5-a04d-766eb8b5b4ed"
      },
      "source": [
        "!pip install spmf"
      ],
      "execution_count": null,
      "outputs": [
        {
          "output_type": "stream",
          "text": [
            "Requirement already satisfied: spmf in /usr/local/lib/python3.7/dist-packages (1.3)\n"
          ],
          "name": "stdout"
        }
      ]
    },
    {
      "cell_type": "code",
      "metadata": {
        "id": "jovQE-5iodtA"
      },
      "source": [
        "from google.colab import drive\n",
        "drive.mount('/content/drive')"
      ],
      "execution_count": null,
      "outputs": []
    },
    {
      "cell_type": "code",
      "metadata": {
        "id": "aj0lHpQTlpOw",
        "colab": {
          "base_uri": "https://localhost:8080/",
          "height": 393
        },
        "outputId": "f29a2670-c3ee-4fb1-e03e-f3b325e64137"
      },
      "source": [
        "from spmf import Spmf\r\n",
        "\r\n",
        "spmf = Spmf(\"PrefixSpan\", input_filename=\"/content/drive/MyDrive/ProgettoDPP/BMS1_spmf.txt\",\r\n",
        "            output_filename=\"output.txt\", arguments=[0.7, 5])\r\n",
        "spmf.run()\r\n",
        "print(spmf.to_pandas_dataframe(pickle=True))\r\n",
        "spmf.to_csv(\"output.csv\")"
      ],
      "execution_count": null,
      "outputs": [
        {
          "output_type": "error",
          "ename": "FileNotFoundError",
          "evalue": "ignored",
          "traceback": [
            "\u001b[0;31m---------------------------------------------------------------------------\u001b[0m",
            "\u001b[0;31mFileNotFoundError\u001b[0m                         Traceback (most recent call last)",
            "\u001b[0;32m<ipython-input-6-8ddfe12124bc>\u001b[0m in \u001b[0;36m<module>\u001b[0;34m()\u001b[0m\n\u001b[1;32m      2\u001b[0m \u001b[0;34m\u001b[0m\u001b[0m\n\u001b[1;32m      3\u001b[0m spmf = Spmf(\"PrefixSpan\", input_filename=\"/content/drive/MyDrive/ProgettoDPP/BMS1_spmf.txt\",\n\u001b[0;32m----> 4\u001b[0;31m             output_filename=\"output.txt\", arguments=[0.7, 5])\n\u001b[0m\u001b[1;32m      5\u001b[0m \u001b[0mspmf\u001b[0m\u001b[0;34m.\u001b[0m\u001b[0mrun\u001b[0m\u001b[0;34m(\u001b[0m\u001b[0;34m)\u001b[0m\u001b[0;34m\u001b[0m\u001b[0;34m\u001b[0m\u001b[0m\n\u001b[1;32m      6\u001b[0m \u001b[0mprint\u001b[0m\u001b[0;34m(\u001b[0m\u001b[0mspmf\u001b[0m\u001b[0;34m.\u001b[0m\u001b[0mto_pandas_dataframe\u001b[0m\u001b[0;34m(\u001b[0m\u001b[0mpickle\u001b[0m\u001b[0;34m=\u001b[0m\u001b[0;32mTrue\u001b[0m\u001b[0;34m)\u001b[0m\u001b[0;34m)\u001b[0m\u001b[0;34m\u001b[0m\u001b[0;34m\u001b[0m\u001b[0m\n",
            "\u001b[0;32m/usr/local/lib/python3.7/dist-packages/spmf/__init__.py\u001b[0m in \u001b[0;36m__init__\u001b[0;34m(self, algorithm_name, input_direct, input_type, input_filename, output_filename, arguments, spmf_bin_location_dir, memory)\u001b[0m\n\u001b[1;32m     34\u001b[0m                                             self.executable_))):\n\u001b[1;32m     35\u001b[0m             raise FileNotFoundError(self.executable_ + \" not found. Please\" +\n\u001b[0;32m---> 36\u001b[0;31m                                     \" use the spmf_bin_location_dir argument.\")\n\u001b[0m\u001b[1;32m     37\u001b[0m \u001b[0;34m\u001b[0m\u001b[0m\n\u001b[1;32m     38\u001b[0m         \u001b[0mself\u001b[0m\u001b[0;34m.\u001b[0m\u001b[0magorithm_name_\u001b[0m \u001b[0;34m=\u001b[0m \u001b[0malgorithm_name\u001b[0m\u001b[0;34m\u001b[0m\u001b[0;34m\u001b[0m\u001b[0m\n",
            "\u001b[0;31mFileNotFoundError\u001b[0m: spmf.jar not found. Please use the spmf_bin_location_dir argument."
          ]
        }
      ]
    }
  ]
}